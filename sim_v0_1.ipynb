{
 "cells": [
  {
   "cell_type": "markdown",
   "metadata": {},
   "source": [
    "## Cryptobond Simulation\n",
    "\n",
    "After encountering some issues engineering the smart contract, I have decided to make a simulation first, so that there is a very concise model for the contract... Also, we may know about what is good or bad, before writing unit tests!"
   ]
  },
  {
   "cell_type": "code",
   "execution_count": 4,
   "metadata": {},
   "outputs": [],
   "source": [
    "import pandas as pd\n",
    "from modsim import *\n",
    "import datetime as dt\n",
    "\n",
    "np.random.seed(1337)\n",
    "\n",
    "_e = 2.718281828459045\n"
   ]
  },
  {
   "cell_type": "markdown",
   "metadata": {},
   "source": [
    "These helper functions perform all the math and they can remain outside the class.  I wonder if it makes sense to make a smartcontract that just does this for donations..."
   ]
  },
  {
   "cell_type": "code",
   "execution_count": 2,
   "metadata": {},
   "outputs": [],
   "source": [
    "\n",
    "def z_score(t, mu, d):\n",
    "    return abs((t - mu) / d)\n",
    "\n",
    "def Polya_tail(z):\n",
    "    y = 1 - _e ** (-0.63661977236 * z ** 2)\n",
    "    return (1 + sqrt(y)) / 2\n",
    "\n",
    "def Winitzki_tail(z):\n",
    "    a = -z ** 2 / 2\n",
    "    b = 0.147 * a\n",
    "    c = 1 - _e ** (a * (1.27323954474 + b) / (1 + b))\n",
    "    return 0.5 * (1 + c ** 0.5)\n",
    "\n",
    "def Lin_tail(z):\n",
    "    y = 13.1946891451 * z / (9 - z)\n",
    "    return 1 - 1 / (1 + _e ** y)\n",
    "\n",
    "def calculate_w(t, zp):\n",
    "    zn = z_score(t)\n",
    "    w = zp - zn\n",
    "    return w"
   ]
  },
  {
   "cell_type": "markdown",
   "metadata": {},
   "source": [
    "An ideal choice computes simply and quickly.  All three of these pass that test.  They are similarly small, and can be deployed similarly in one line each.\n",
    "\n",
    "But also, for the sake of not going below zero theoretical value, we have to choose an algorithm that consistently underestimates or overestimates...  In order to leave aside gas fees and arrive at a necessarily positive value at maturity, there must be some predictability in the approximation of payouts."
   ]
  },
  {
   "cell_type": "code",
   "execution_count": 5,
   "metadata": {},
   "outputs": [
    {
     "data": {
      "text/plain": [
       "(0.977465404302258, 0.9800111797880668, 0.9841464769452225)"
      ]
     },
     "execution_count": 5,
     "metadata": {},
     "output_type": "execute_result"
    }
   ],
   "source": [
    "z_score(4, 6, 1) # 2 -- 98%\n",
    "Lin_tail(2), Polya_tail(2), Winitzki_tail(2)"
   ]
  },
  {
   "cell_type": "code",
   "execution_count": 6,
   "metadata": {},
   "outputs": [],
   "source": [
    "class Bond():\n",
    "    def __init__(self, owner=0):\n",
    "        today = dt.date.today()\n",
    "        self.O = owner\n",
    "        self.act = False\n",
    "        print('Bond initialized, not active.')\n",
    "\n",
    "\n",
    "    def activate(self, owner, tM, V):\n",
    "        assert owner == self.O, f'Only the owner can activate.'\n",
    "        self.V0 = V\n",
    "        self.V = V\n",
    "        self.tM = tM\n",
    "        self.mu = self.tM / 2.0\n",
    "        self.d = self.tM / 3.46410161514\n",
    "        self.z = 4\n",
    "        self.act = True\n",
    "        return pd.Series(owner, owner, 0, 0, V)\n",
    "\n",
    "    def give(self, owner, buyer, tn):\n",
    "        assert owner == self.O, f'Only the owner can give.'\n",
    "        assert tn != self.tp, f'Contract is on cooldown.'\n",
    "        if tn > self.tM:\n",
    "            x = self.V\n",
    "            self.act = False\n",
    "            print('Contract burned, value remitted.')\n",
    "        else:\n",
    "            zn = z_score(tn, self.mu, self.d)\n",
    "            x = calculate_w(tn, self.z) * self.V0\n",
    "            self.V -= x\n",
    "            self.z = zn\n",
    "            self.O = buyer\n",
    "        return pd.Series(owner, buyer, tn, x, self.V)\n"
   ]
  },
  {
   "cell_type": "code",
   "execution_count": 47,
   "metadata": {},
   "outputs": [
    {
     "data": {
      "text/plain": [
       "(330, 918)"
      ]
     },
     "execution_count": 47,
     "metadata": {},
     "output_type": "execute_result"
    }
   ],
   "source": [
    "def generate_trade(mode='random', start=0, end=364, accounts=1000):\n",
    "    if mode == 'linear':\n",
    "            t = int(start + 10)\n",
    "            o = np.random.randint(0, accounts - 1)\n",
    "            return (t,o)\n",
    "\n",
    "    elif mode == 'random':\n",
    "            t = int(start + (end - start) * np.random.rand())\n",
    "            o = np.random.randint(0, accounts - 1)\n",
    "            return (t,o)\n",
    "\n",
    "generate_trade()"
   ]
  },
  {
   "cell_type": "code",
   "execution_count": 51,
   "metadata": {},
   "outputs": [],
   "source": [
    "params = Params(\n",
    "    t_M = 365 * 3,\n",
    "    value = 1000000,\n",
    "    n = range(0,1000))\n",
    "    \n",
    "def run_sim(params):\n",
    "    accounts = 1000\n",
    "    history = pd.DataFrame(\n",
    "        columns=['from', 'to', 'timestamp', 'payout', 'value'])\n",
    "        \n",
    "    bond = Bond()\n",
    "    history[0] = bond.activate(0, params['tM'], params['V'])\n",
    "\n",
    "    while bond.act == True:\n",
    "        #trade\n"
   ]
  }
 ],
 "metadata": {
  "kernelspec": {
   "display_name": "Python 3.9.2 64-bit",
   "language": "python",
   "name": "python3"
  },
  "language_info": {
   "codemirror_mode": {
    "name": "ipython",
    "version": 3
   },
   "file_extension": ".py",
   "mimetype": "text/x-python",
   "name": "python",
   "nbconvert_exporter": "python",
   "pygments_lexer": "ipython3",
   "version": "3.9.2"
  },
  "orig_nbformat": 4,
  "vscode": {
   "interpreter": {
    "hash": "916dbcbb3f70747c44a77c7bcd40155683ae19c65e1c03b4aa3499c5328201f1"
   }
  }
 },
 "nbformat": 4,
 "nbformat_minor": 2
}
