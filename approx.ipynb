{
 "cells": [
  {
   "cell_type": "code",
   "execution_count": 15,
   "metadata": {},
   "outputs": [],
   "source": [
    "import numpy as np\n",
    "from scipy.stats import norm\n",
    "import matplotlib.pyplot as plt\n",
    "import pandas as pd\n",
    "import math\n",
    "\n",
    "np.random.seed(1337)\n",
    "\n",
    "_e = 2.7182818284\n",
    "\n",
    "def z_score(t, mu, sd):\n",
    "    return abs((t - mu) / sd)\n",
    "\n",
    "def Polya_tail(z):\n",
    "    y = 1 - _e ** (-0.63661977236 * z ** 2)\n",
    "    return (1 + np.sqrt(y)) / 2\n",
    "\n",
    "def Winitzki_tail(z):\n",
    "    a = -z ** 2 / 2\n",
    "    b = 0.147 * a\n",
    "    c = 1 - _e ** (a * (1.27323954474 + b) / (1 + b))\n",
    "    return 0.5 * (1 + c ** 0.5)\n",
    "\n",
    "def Lin_tail(z):\n",
    "    y = 13.1946891451 * z / (9 - z)\n",
    "    return 1 - 1 / (1 + _e ** y)\n",
    "\n",
    "def calculate_w(t, zp):\n",
    "    zn = z_score(t)\n",
    "    w = zp - zn\n",
    "    return w"
   ]
  },
  {
   "cell_type": "markdown",
   "metadata": {},
   "source": [
    "Here we test our approximation functions adapted from the text, using constants of 10 decimal places.  The EVM can only support floating point math to this level of depth.\n",
    "\n",
    "Testing the approximations of right tails of the normal distribution at a specific point:  At 2 standard deviations, exactly 98% of the area should fall under the curve, to the left of the point.  These algorithms don't support negative Z scores, as you can always subtract them from 1 if you are on the left."
   ]
  },
  {
   "cell_type": "code",
   "execution_count": 16,
   "metadata": {},
   "outputs": [
    {
     "name": "stdout",
     "output_type": "stream",
     "text": [
      "2.0\n"
     ]
    },
    {
     "data": {
      "text/plain": [
       "(0.9774654043004543, 0.9800111797869381, 0.9841464769442516)"
      ]
     },
     "execution_count": 16,
     "metadata": {},
     "output_type": "execute_result"
    }
   ],
   "source": [
    "print(z_score(4, 6, 1)) # 2 -- 98%\n",
    "Lin_tail(2), Polya_tail(2), Winitzki_tail(2) "
   ]
  },
  {
   "cell_type": "markdown",
   "metadata": {},
   "source": [
    "At this point, we should determine what most closely approximates the real distribution, or figure out which ones are the best in certain regions.  Then, probably using a combination in a piecewise function, we can establish a method that is useful to determine payouts of the cryptobond and allows us to reach time of maturity without going bankrupt."
   ]
  },
  {
   "cell_type": "code",
   "execution_count": 17,
   "metadata": {},
   "outputs": [
    {
     "data": {
      "text/html": [
       "<div>\n",
       "<style scoped>\n",
       "    .dataframe tbody tr th:only-of-type {\n",
       "        vertical-align: middle;\n",
       "    }\n",
       "\n",
       "    .dataframe tbody tr th {\n",
       "        vertical-align: top;\n",
       "    }\n",
       "\n",
       "    .dataframe thead th {\n",
       "        text-align: right;\n",
       "    }\n",
       "</style>\n",
       "<table border=\"1\" class=\"dataframe\">\n",
       "  <thead>\n",
       "    <tr style=\"text-align: right;\">\n",
       "      <th></th>\n",
       "      <th>t</th>\n",
       "      <th>z</th>\n",
       "      <th>cdf</th>\n",
       "      <th>lin</th>\n",
       "      <th>polya</th>\n",
       "      <th>winitzki</th>\n",
       "    </tr>\n",
       "  </thead>\n",
       "  <tbody>\n",
       "    <tr>\n",
       "      <th>0</th>\n",
       "      <td>0</td>\n",
       "      <td>2.5000</td>\n",
       "      <td>0.006210</td>\n",
       "      <td>0.006213</td>\n",
       "      <td>0.004699</td>\n",
       "      <td>0.002269</td>\n",
       "    </tr>\n",
       "    <tr>\n",
       "      <th>1</th>\n",
       "      <td>1</td>\n",
       "      <td>2.4995</td>\n",
       "      <td>0.006218</td>\n",
       "      <td>0.006222</td>\n",
       "      <td>0.004706</td>\n",
       "      <td>0.002274</td>\n",
       "    </tr>\n",
       "    <tr>\n",
       "      <th>2</th>\n",
       "      <td>2</td>\n",
       "      <td>2.4990</td>\n",
       "      <td>0.006227</td>\n",
       "      <td>0.006230</td>\n",
       "      <td>0.004714</td>\n",
       "      <td>0.002280</td>\n",
       "    </tr>\n",
       "    <tr>\n",
       "      <th>3</th>\n",
       "      <td>3</td>\n",
       "      <td>2.4985</td>\n",
       "      <td>0.006236</td>\n",
       "      <td>0.006239</td>\n",
       "      <td>0.004721</td>\n",
       "      <td>0.002285</td>\n",
       "    </tr>\n",
       "    <tr>\n",
       "      <th>4</th>\n",
       "      <td>4</td>\n",
       "      <td>2.4980</td>\n",
       "      <td>0.006245</td>\n",
       "      <td>0.006248</td>\n",
       "      <td>0.004729</td>\n",
       "      <td>0.002291</td>\n",
       "    </tr>\n",
       "  </tbody>\n",
       "</table>\n",
       "</div>"
      ],
      "text/plain": [
       "   t       z       cdf       lin     polya  winitzki\n",
       "0  0  2.5000  0.006210  0.006213  0.004699  0.002269\n",
       "1  1  2.4995  0.006218  0.006222  0.004706  0.002274\n",
       "2  2  2.4990  0.006227  0.006230  0.004714  0.002280\n",
       "3  3  2.4985  0.006236  0.006239  0.004721  0.002285\n",
       "4  4  2.4980  0.006245  0.006248  0.004729  0.002291"
      ]
     },
     "execution_count": 17,
     "metadata": {},
     "output_type": "execute_result"
    }
   ],
   "source": [
    "table = pd.DataFrame(columns=['t', 'z', 'cdf', 'lin', 'polya', 'winitzki'])\n",
    "\n",
    "# Integer time, Z score, and true cumulative distribution function\n",
    "table['t'] = range(0, 10000)\n",
    "table['z'] = z_score(table['t'], 5000, 2000)\n",
    "table['cdf'] = norm.cdf(table['z'])\n",
    "\n",
    "# 3 numerical methods for approximation of the CDF\n",
    "table['lin'] = Lin_tail(table['z'])\n",
    "table['polya'] = Polya_tail(table['z'])\n",
    "table['winitzki'] = Winitzki_tail(table['z'])\n",
    "\n",
    "table.iloc[:5000, 2:] = 1 - table.iloc[0:5000, 2:]\n",
    "table.head()"
   ]
  },
  {
   "cell_type": "markdown",
   "metadata": {},
   "source": [
    "For our purposes, a single simple short function which errs always on one side or the other of the real curve is ideal.  If there is more than one that false completely inside or outside of the curve, we find out which runs faster.  If they run at the same speed, we take the one with the smallest memory footprint."
   ]
  },
  {
   "cell_type": "code",
   "execution_count": 18,
   "metadata": {},
   "outputs": [
    {
     "data": {
      "text/plain": [
       "<matplotlib.legend.Legend at 0x7f71088fab50>"
      ]
     },
     "execution_count": 18,
     "metadata": {},
     "output_type": "execute_result"
    },
    {
     "data": {
      "image/png": "[encoded data removed]",
      "text/plain": [
       "<Figure size 640x480 with 1 Axes>"
      ]
     },
     "metadata": {},
     "output_type": "display_data"
    }
   ],
   "source": [
    "plt.plot(table['t'], table['cdf'], color='black', label = 'True CDF')\n",
    "plt.plot(table['t'], table['lin'], color='red', label = 'Lin Method')\n",
    "plt.plot(table['t'], table['polya'], color='blue', label = 'Polya Method')\n",
    "plt.plot(table['t'], table['winitzki'], color='green', label = 'Winitzki Method')\n",
    "plt.legend()"
   ]
  },
  {
   "cell_type": "markdown",
   "metadata": {},
   "source": [
    "At the mean, all of these approximators are basically accurate.  This stands to reason.  At the extreme left-hand and right-hand side of the CDF, they also converge.  It appears that the greatest deviations from the true values occur when the Z score false in the intervals (1,2) and (-1,-2).\n",
    "\n",
    "These differences matter because the area under the curve in the true CDF is equal to exactly 1.  These other approximations may be a little less or a little more than 1 in total.  Finding out exactly where divergences occur will give us a useful piecewise function or let us know that we can just use the simplest approximation.  It will also be important to see how much time each calculation takes.\n",
    "\n",
    "First, we take random samples from the time frame to create slices of the curve and add them together to see how close they are to 1.  If the sum of the slices does not exceed 1 (in every single experiment), this is an indication that the approximation can be used as is."
   ]
  },
  {
   "cell_type": "code",
   "execution_count": 19,
   "metadata": {},
   "outputs": [
    {
     "data": {
      "text/plain": [
       "0.9400322219456965"
      ]
     },
     "execution_count": 19,
     "metadata": {},
     "output_type": "execute_result"
    }
   ],
   "source": [
    "# Create n random time intervals with Z score\n",
    "def make_slices(n=20, T=10000, mu=5000, sd=2000):\n",
    "    \n",
    "    # Start on the left side of the curve\n",
    "    t = [0]\n",
    "    z = [-2.50]\n",
    "\n",
    "    # Pick random times for trades within the timeframe T\n",
    "    for i in range(n):\n",
    "        t.append(np.random.randint(t[-1]+1, T))\n",
    "        if t[-1] >= T-1:\n",
    "            break\n",
    "        elif t[-1] < mu:\n",
    "            z.append(0 - z_score(t[-1], mu, sd))\n",
    "        else:\n",
    "            z.append(z_score(t[-1], mu, sd))\n",
    "    return t,z\n",
    "\n",
    "def make_test(n=100):\n",
    "    t,z = make_slices(n)\n",
    "    trades = []\n",
    "    for i in range(len(z) - 1):\n",
    "        left = Lin_tail(z[i])\n",
    "        right = Lin_tail(z[i+1])\n",
    "        trades.append(abs(left - right))\n",
    "    return trades\n",
    "    \n",
    "sum(make_test())"
   ]
  },
  {
   "cell_type": "markdown",
   "metadata": {},
   "source": [
    "After implementing this \"solution\", I find that Vyper is unable to perform expnentiation on decimal numbers!  What a terrible discovery!  Raising Euler's number to a power computed at runtime is crucial to the smart contract as imagined.\n",
    "\n",
    "The only solution I can imagine is to scale the number by a multiple of 10 and perform the exponential on that.... then to scale it back to its original magnitude.  This is going to hurt.....\n",
    "\n",
    "Fortunately, we can represent numbers as binary, and we can precompute as magic numbers certain relevant constants.  Then we can use bitwise operators, moving the relevant 1s and 0s left or right, and finally return the numbers to our original base and magnitude."
   ]
  },
  {
   "cell_type": "markdown",
   "metadata": {},
   "source": [
    "a hint from https://stackoverflow.com/questions/69954589/is-there-a-way-in-vyper-to-calculate-ex-with-x-being-a-signed-decimal\n",
    "\n",
    "import math\n",
    "\n",
    "SCALE = 10\n",
    "\n",
    "EXP = 3\n",
    "\n",
    "eScaled = math.e * (10 ** SCALE)\n",
    "\n",
    "eScaleDiv = (10 ** SCALE) ** EXP\n",
    "\n",
    "ePowExpScaled = eScaled ** EXP\n",
    "\n",
    "print(ePowExpScaled / eScaleDiv)\n",
    "\n",
    "print(math.e ** EXP)"
   ]
  },
  {
   "cell_type": "code",
   "execution_count": 20,
   "metadata": {},
   "outputs": [
    {
     "name": "stdout",
     "output_type": "stream",
     "text": [
      "0.8839061705238646\n",
      "0.8839061705238646\n"
     ]
    }
   ],
   "source": [
    "def Lin_scaled(z):\n",
    "    scale = 10 ** 10\n",
    "    y = 13.1946891451 * z / (9 - z)\n",
    "    exp = int(_e * scale)\n",
    "    \n",
    "    y_scaled = scale ** y\n",
    "    exp_scaled = exp ** y\n",
    "    return 1 - 1 / (1 + exp_scaled / y_scaled)\n",
    "\n",
    "print(Lin_tail(1.2))\n",
    "print(Lin_scaled(1.2))"
   ]
  },
  {
   "cell_type": "code",
   "execution_count": 21,
   "metadata": {},
   "outputs": [
    {
     "data": {
      "text/plain": [
       "[0.0,\n",
       " 0.7761581850045371,\n",
       " 1.6493361431346414,\n",
       " 2.638937829015426,\n",
       " 3.7699111843077517,\n",
       " 5.074880440414281,\n",
       " 6.597344572538565]"
      ]
     },
     "execution_count": 21,
     "metadata": {},
     "output_type": "execute_result"
    }
   ],
   "source": [
    "[4.2 * np.pi * z / (9 - z) for z in (0, 0.5, 1, 1.5, 2, 2.5, 3)]"
   ]
  },
  {
   "cell_type": "code",
   "execution_count": 22,
   "metadata": {},
   "outputs": [
    {
     "name": "stdout",
     "output_type": "stream",
     "text": [
      "1 2.0 0.0\n"
     ]
    },
    {
     "ename": "NameError",
     "evalue": "name 'thousandths' is not defined",
     "output_type": "error",
     "traceback": [
      "\u001b[0;31m---------------------------------------------------------------------------\u001b[0m",
      "\u001b[0;31mNameError\u001b[0m                                 Traceback (most recent call last)",
      "\u001b[1;32m/home/s/Desktop/tesi/approx.ipynb Cell 14\u001b[0m in \u001b[0;36m<cell line: 23>\u001b[0;34m()\u001b[0m\n\u001b[1;32m     <a href='vscode-notebook-cell:/home/s/Desktop/tesi/approx.ipynb#X16sZmlsZQ%3D%3D?line=19'>20</a>\u001b[0m     ans \u001b[39m=\u001b[39m thousandths[\u001b[39mint\u001b[39m(f1000)] \u001b[39m*\u001b[39m hundredths[\u001b[39mint\u001b[39m(f100)] \u001b[39m*\u001b[39m tenths[\u001b[39mint\u001b[39m(f10)] \u001b[39m*\u001b[39m ones[r]\n\u001b[1;32m     <a href='vscode-notebook-cell:/home/s/Desktop/tesi/approx.ipynb#X16sZmlsZQ%3D%3D?line=20'>21</a>\u001b[0m     \u001b[39mreturn\u001b[39;00m ans\n\u001b[0;32m---> <a href='vscode-notebook-cell:/home/s/Desktop/tesi/approx.ipynb#X16sZmlsZQ%3D%3D?line=22'>23</a>\u001b[0m erf(\u001b[39m1.2\u001b[39;49m)\n",
      "\u001b[1;32m/home/s/Desktop/tesi/approx.ipynb Cell 14\u001b[0m in \u001b[0;36merf\u001b[0;34m(x)\u001b[0m\n\u001b[1;32m     <a href='vscode-notebook-cell:/home/s/Desktop/tesi/approx.ipynb#X16sZmlsZQ%3D%3D?line=16'>17</a>\u001b[0m f1000 \u001b[39m=\u001b[39m x \u001b[39m*\u001b[39m \u001b[39m1000\u001b[39m \u001b[39m-\u001b[39m r \u001b[39m*\u001b[39m \u001b[39m1000\u001b[39m \u001b[39m-\u001b[39m f10 \u001b[39m*\u001b[39m \u001b[39m100\u001b[39m \u001b[39m-\u001b[39m f100 \u001b[39m*\u001b[39m \u001b[39m10\u001b[39m\n\u001b[1;32m     <a href='vscode-notebook-cell:/home/s/Desktop/tesi/approx.ipynb#X16sZmlsZQ%3D%3D?line=18'>19</a>\u001b[0m \u001b[39mprint\u001b[39m(r, f10, f100)\n\u001b[0;32m---> <a href='vscode-notebook-cell:/home/s/Desktop/tesi/approx.ipynb#X16sZmlsZQ%3D%3D?line=19'>20</a>\u001b[0m ans \u001b[39m=\u001b[39m thousandths[\u001b[39mint\u001b[39m(f1000)] \u001b[39m*\u001b[39m hundredths[\u001b[39mint\u001b[39m(f100)] \u001b[39m*\u001b[39m tenths[\u001b[39mint\u001b[39m(f10)] \u001b[39m*\u001b[39m ones[r]\n\u001b[1;32m     <a href='vscode-notebook-cell:/home/s/Desktop/tesi/approx.ipynb#X16sZmlsZQ%3D%3D?line=20'>21</a>\u001b[0m \u001b[39mreturn\u001b[39;00m ans\n",
      "\u001b[0;31mNameError\u001b[0m: name 'thousandths' is not defined"
     ]
    }
   ],
   "source": [
    "def erf(x):\n",
    "    \"\"\"\n",
    "    List whole, tenth, and hundredth powers of e.\n",
    "    Compute the non-integer power of e by the product rule of exponents.\n",
    "    \"\"\"\n",
    "    ones = [1.0, 2.718, 7.389, 20.086, 54.598, 148.413,\n",
    "                        403.429, 1096.633, 2980.958, 8103.084]\n",
    "    tenths = [1.0, 1.105, 1.221, 1.350, 1.492, 1.649,\n",
    "                          1.822, 2.014, 2.226, 2.460]\n",
    "    hundredths = [1.0, 1.01, 1.02, 1.03, 1.041, 1.051,\n",
    "                              1.062, 1.073, 1.083, 1.094]\n",
    "    thousandths = [1.0, 1.001, 1.002, 1.003, 1.004, 1.005, 1.006, 1.007, 1.008, 1.009]\n",
    "\n",
    "    r = int(x)\n",
    "    f10 = x * 10 - r * 10\n",
    "    f100 = x * 100 - r * 100 - f10 * 10\n",
    "    f1000 = x * 1000 - r * 1000 - f10 * 100 - f100 * 10\n",
    "\n",
    "    print(r, f10, f100)\n",
    "    ans = thousandths[int(f1000)] * hundredths[int(f100)] * tenths[int(f10)] * ones[r]\n",
    "    return ans\n",
    "\n",
    "erf(1.2)"
   ]
  },
  {
   "cell_type": "code",
   "execution_count": 14,
   "metadata": {},
   "outputs": [
    {
     "ename": "NameError",
     "evalue": "name 'math' is not defined",
     "output_type": "error",
     "traceback": [
      "\u001b[0;31m---------------------------------------------------------------------------\u001b[0m",
      "\u001b[0;31mNameError\u001b[0m                                 Traceback (most recent call last)",
      "\u001b[1;32m/home/s/Desktop/tesi/approx.ipynb Cell 15\u001b[0m in \u001b[0;36m<cell line: 2>\u001b[0;34m()\u001b[0m\n\u001b[1;32m      <a href='vscode-notebook-cell:/home/s/Desktop/tesi/approx.ipynb#X20sZmlsZQ%3D%3D?line=0'>1</a>\u001b[0m \u001b[39m# thousandths powers of e\u001b[39;00m\n\u001b[0;32m----> <a href='vscode-notebook-cell:/home/s/Desktop/tesi/approx.ipynb#X20sZmlsZQ%3D%3D?line=1'>2</a>\u001b[0m math\u001b[39m.\u001b[39mexp(\u001b[39m0.001\u001b[39m)\n",
      "\u001b[0;31mNameError\u001b[0m: name 'math' is not defined"
     ]
    }
   ],
   "source": [
    "# thousandths powers of e\n",
    "math.exp(0.001)"
   ]
  }
 ],
 "metadata": {
  "kernelspec": {
   "display_name": "Python 3.9.2 64-bit",
   "language": "python",
   "name": "python3"
  },
  "language_info": {
   "codemirror_mode": {
    "name": "ipython",
    "version": 3
   },
   "file_extension": ".py",
   "mimetype": "text/x-python",
   "name": "python",
   "nbconvert_exporter": "python",
   "pygments_lexer": "ipython3",
   "version": "3.9.2"
  },
  "orig_nbformat": 4,
  "vscode": {
   "interpreter": {
    "hash": "916dbcbb3f70747c44a77c7bcd40155683ae19c65e1c03b4aa3499c5328201f1"
   }
  }
 },
 "nbformat": 4,
 "nbformat_minor": 2
}
